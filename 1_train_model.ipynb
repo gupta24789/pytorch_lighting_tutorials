{
  "nbformat": 4,
  "nbformat_minor": 0,
  "metadata": {
    "colab": {
      "name": "1_train_model.ipynb",
      "provenance": [],
      "authorship_tag": "ABX9TyPyKjowpzMqeLqZzk2TKXNU",
      "include_colab_link": true
    },
    "kernelspec": {
      "name": "python3",
      "display_name": "Python 3"
    },
    "language_info": {
      "name": "python"
    }
  },
  "cells": [
    {
      "cell_type": "markdown",
      "metadata": {
        "id": "view-in-github",
        "colab_type": "text"
      },
      "source": [
        "<a href=\"https://colab.research.google.com/github/gupta24789/pytorch_lighting_tutorials/blob/main/1_train_model.ipynb\" target=\"_parent\"><img src=\"https://colab.research.google.com/assets/colab-badge.svg\" alt=\"Open In Colab\"/></a>"
      ]
    },
    {
      "cell_type": "code",
      "source": [
        "!pip install -q pytorch_lightning"
      ],
      "metadata": {
        "colab": {
          "base_uri": "https://localhost:8080/"
        },
        "id": "-qkBkJRrhDC5",
        "outputId": "21b0848e-6b72-40d6-bf90-36f646caccf7"
      },
      "execution_count": 2,
      "outputs": [
        {
          "output_type": "stream",
          "name": "stdout",
          "text": [
            "\u001b[K     |████████████████████████████████| 585 kB 25.1 MB/s \n",
            "\u001b[K     |████████████████████████████████| 596 kB 54.9 MB/s \n",
            "\u001b[K     |████████████████████████████████| 419 kB 48.8 MB/s \n",
            "\u001b[K     |████████████████████████████████| 140 kB 54.7 MB/s \n",
            "\u001b[K     |████████████████████████████████| 1.1 MB 42.5 MB/s \n",
            "\u001b[K     |████████████████████████████████| 94 kB 1.7 MB/s \n",
            "\u001b[K     |████████████████████████████████| 144 kB 43.3 MB/s \n",
            "\u001b[K     |████████████████████████████████| 271 kB 62.9 MB/s \n",
            "\u001b[?25h"
          ]
        }
      ]
    },
    {
      "cell_type": "code",
      "execution_count": 3,
      "metadata": {
        "id": "xP5onDTWgqgj"
      },
      "outputs": [],
      "source": [
        "import os\n",
        "import torch\n",
        "from torch import nn\n",
        "import torch.nn.functional as F\n",
        "from torchvision import transforms\n",
        "from torchvision.datasets import MNIST\n",
        "from torch.utils.data import DataLoader, random_split\n",
        "import pytorch_lightning as pl"
      ]
    },
    {
      "cell_type": "code",
      "source": [
        "## Define Model\n",
        "class Encoder(nn.Module):\n",
        "  def __init__(self):\n",
        "    super.__init__(Encoder, self)\n",
        "    self.l1 = nn.Sequential()"
      ],
      "metadata": {
        "id": "bcBlEHCfg9IS"
      },
      "execution_count": null,
      "outputs": []
    }
  ]
}